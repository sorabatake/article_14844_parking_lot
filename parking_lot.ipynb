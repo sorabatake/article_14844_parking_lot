{
 "cells": [
  {
   "cell_type": "markdown",
   "metadata": {},
   "source": [
    "### 必要なライブラリのインポート"
   ]
  },
  {
   "cell_type": "code",
   "execution_count": 1,
   "metadata": {},
   "outputs": [
    {
     "name": "stdout",
     "output_type": "stream",
     "text": [
      "Requirement already satisfied: sentinelsat in /opt/conda/lib/python3.7/site-packages (0.14)\n",
      "Requirement already satisfied: six in /opt/conda/lib/python3.7/site-packages (from sentinelsat) (1.12.0)\n",
      "Requirement already satisfied: requests in /opt/conda/lib/python3.7/site-packages (from sentinelsat) (2.22.0)\n",
      "Requirement already satisfied: tqdm in /opt/conda/lib/python3.7/site-packages (from sentinelsat) (4.32.2)\n",
      "Requirement already satisfied: html2text in /opt/conda/lib/python3.7/site-packages (from sentinelsat) (2020.1.16)\n",
      "Requirement already satisfied: click in /opt/conda/lib/python3.7/site-packages (from sentinelsat) (7.0)\n",
      "Requirement already satisfied: geojson>=2 in /opt/conda/lib/python3.7/site-packages (from sentinelsat) (2.5.0)\n",
      "Requirement already satisfied: geomet in /opt/conda/lib/python3.7/site-packages (from sentinelsat) (0.2.1.post1)\n",
      "Requirement already satisfied: idna<2.9,>=2.5 in /opt/conda/lib/python3.7/site-packages (from requests->sentinelsat) (2.8)\n",
      "Requirement already satisfied: chardet<3.1.0,>=3.0.2 in /opt/conda/lib/python3.7/site-packages (from requests->sentinelsat) (3.0.4)\n",
      "Requirement already satisfied: certifi>=2017.4.17 in /opt/conda/lib/python3.7/site-packages (from requests->sentinelsat) (2019.9.11)\n",
      "Requirement already satisfied: urllib3!=1.25.0,!=1.25.1,<1.26,>=1.21.1 in /opt/conda/lib/python3.7/site-packages (from requests->sentinelsat) (1.25.3)\n",
      "Requirement already satisfied: rasterio in /opt/conda/lib/python3.7/site-packages (1.1.5)\n",
      "Requirement already satisfied: snuggs>=1.4.1 in /opt/conda/lib/python3.7/site-packages (from rasterio) (1.4.7)\n",
      "Requirement already satisfied: affine in /opt/conda/lib/python3.7/site-packages (from rasterio) (2.3.0)\n",
      "Requirement already satisfied: cligj>=0.5 in /opt/conda/lib/python3.7/site-packages (from rasterio) (0.5.0)\n",
      "Requirement already satisfied: click-plugins in /opt/conda/lib/python3.7/site-packages (from rasterio) (1.1.1)\n",
      "Requirement already satisfied: attrs in /opt/conda/lib/python3.7/site-packages (from rasterio) (19.1.0)\n",
      "Requirement already satisfied: numpy in /opt/conda/lib/python3.7/site-packages (from rasterio) (1.17.2)\n",
      "Requirement already satisfied: click<8,>=4.0 in /opt/conda/lib/python3.7/site-packages (from rasterio) (7.0)\n",
      "Requirement already satisfied: pyparsing>=2.1.6 in /opt/conda/lib/python3.7/site-packages (from snuggs>=1.4.1->rasterio) (2.4.2)\n",
      "E: Could not open lock file /var/lib/dpkg/lock-frontend - open (13: Permission denied)\n",
      "E: Unable to acquire the dpkg frontend lock (/var/lib/dpkg/lock-frontend), are you root?\n",
      "E: Could not open lock file /var/lib/dpkg/lock-frontend - open (13: Permission denied)\n",
      "E: Unable to acquire the dpkg frontend lock (/var/lib/dpkg/lock-frontend), are you root?\n",
      "Collecting git+git://github.com/geopandas/geopandas.git\n",
      "  Cloning git://github.com/geopandas/geopandas.git to /tmp/pip-req-build-k9jqx7w2\n",
      "  Running command git clone -q git://github.com/geopandas/geopandas.git /tmp/pip-req-build-k9jqx7w2\n",
      "Requirement already satisfied (use --upgrade to upgrade): geopandas==0.8.0+37.gd693267 from git+git://github.com/geopandas/geopandas.git in /opt/conda/lib/python3.7/site-packages\n",
      "Requirement already satisfied: pandas>=0.24.0 in /opt/conda/lib/python3.7/site-packages (from geopandas==0.8.0+37.gd693267) (0.25.1)\n",
      "Requirement already satisfied: shapely>=1.6 in /opt/conda/lib/python3.7/site-packages (from geopandas==0.8.0+37.gd693267) (1.6.4.post2)\n",
      "Requirement already satisfied: fiona>=1.8 in /opt/conda/lib/python3.7/site-packages (from geopandas==0.8.0+37.gd693267) (1.8.6)\n",
      "Requirement already satisfied: pyproj>=2.2.0 in /opt/conda/lib/python3.7/site-packages (from geopandas==0.8.0+37.gd693267) (2.6.1.post1)\n",
      "Requirement already satisfied: pytz>=2017.2 in /opt/conda/lib/python3.7/site-packages (from pandas>=0.24.0->geopandas==0.8.0+37.gd693267) (2019.2)\n",
      "Requirement already satisfied: numpy>=1.13.3 in /opt/conda/lib/python3.7/site-packages (from pandas>=0.24.0->geopandas==0.8.0+37.gd693267) (1.17.2)\n",
      "Requirement already satisfied: python-dateutil>=2.6.1 in /opt/conda/lib/python3.7/site-packages (from pandas>=0.24.0->geopandas==0.8.0+37.gd693267) (2.8.0)\n",
      "Requirement already satisfied: attrs>=17 in /opt/conda/lib/python3.7/site-packages (from fiona>=1.8->geopandas==0.8.0+37.gd693267) (19.1.0)\n",
      "Requirement already satisfied: click<8,>=4.0 in /opt/conda/lib/python3.7/site-packages (from fiona>=1.8->geopandas==0.8.0+37.gd693267) (7.0)\n",
      "Requirement already satisfied: cligj>=0.5 in /opt/conda/lib/python3.7/site-packages (from fiona>=1.8->geopandas==0.8.0+37.gd693267) (0.5.0)\n",
      "Requirement already satisfied: click-plugins>=1.0 in /opt/conda/lib/python3.7/site-packages (from fiona>=1.8->geopandas==0.8.0+37.gd693267) (1.1.1)\n",
      "Requirement already satisfied: six>=1.7 in /opt/conda/lib/python3.7/site-packages (from fiona>=1.8->geopandas==0.8.0+37.gd693267) (1.12.0)\n",
      "Requirement already satisfied: munch in /opt/conda/lib/python3.7/site-packages (from fiona>=1.8->geopandas==0.8.0+37.gd693267) (2.3.2)\n",
      "Building wheels for collected packages: geopandas\n",
      "  Building wheel for geopandas (setup.py) ... \u001b[?25ldone\n",
      "\u001b[?25h  Created wheel for geopandas: filename=geopandas-0.8.0+37.gd693267-py2.py3-none-any.whl size=963513 sha256=dbf98e92655196306fcbe307ac8dbf7140ea8175098f1a0253e10be504bc6ada\n",
      "  Stored in directory: /tmp/pip-ephem-wheel-cache-sjqao2u9/wheels/91/24/71/376c9c67192694168352afcccc2d264248f7e2cc6192997186\n",
      "Successfully built geopandas\n",
      "Requirement already satisfied: descartes in /opt/conda/lib/python3.7/site-packages (1.1.0)\n",
      "Requirement already satisfied: matplotlib in /opt/conda/lib/python3.7/site-packages (from descartes) (3.1.1)\n",
      "Requirement already satisfied: kiwisolver>=1.0.1 in /opt/conda/lib/python3.7/site-packages (from matplotlib->descartes) (1.1.0)\n",
      "Requirement already satisfied: cycler>=0.10 in /opt/conda/lib/python3.7/site-packages (from matplotlib->descartes) (0.10.0)\n",
      "Requirement already satisfied: pyparsing!=2.0.4,!=2.1.2,!=2.1.6,>=2.0.1 in /opt/conda/lib/python3.7/site-packages (from matplotlib->descartes) (2.4.2)\n",
      "Requirement already satisfied: python-dateutil>=2.1 in /opt/conda/lib/python3.7/site-packages (from matplotlib->descartes) (2.8.0)\n",
      "Requirement already satisfied: numpy>=1.11 in /opt/conda/lib/python3.7/site-packages (from matplotlib->descartes) (1.17.2)\n",
      "Requirement already satisfied: setuptools in /opt/conda/lib/python3.7/site-packages (from kiwisolver>=1.0.1->matplotlib->descartes) (41.0.1)\n",
      "Requirement already satisfied: six in /opt/conda/lib/python3.7/site-packages (from cycler>=0.10->matplotlib->descartes) (1.12.0)\n",
      "Requirement already satisfied: shapely in /opt/conda/lib/python3.7/site-packages (1.6.4.post2)\n",
      "Requirement already satisfied: six in /opt/conda/lib/python3.7/site-packages (1.12.0)\n",
      "Requirement already satisfied: pyproj in /opt/conda/lib/python3.7/site-packages (2.6.1.post1)\n",
      "Requirement already satisfied: descartes in /opt/conda/lib/python3.7/site-packages (1.1.0)\n",
      "Requirement already satisfied: matplotlib in /opt/conda/lib/python3.7/site-packages (from descartes) (3.1.1)\n",
      "Requirement already satisfied: cycler>=0.10 in /opt/conda/lib/python3.7/site-packages (from matplotlib->descartes) (0.10.0)\n",
      "Requirement already satisfied: numpy>=1.11 in /opt/conda/lib/python3.7/site-packages (from matplotlib->descartes) (1.17.2)\n",
      "Requirement already satisfied: python-dateutil>=2.1 in /opt/conda/lib/python3.7/site-packages (from matplotlib->descartes) (2.8.0)\n",
      "Requirement already satisfied: kiwisolver>=1.0.1 in /opt/conda/lib/python3.7/site-packages (from matplotlib->descartes) (1.1.0)\n",
      "Requirement already satisfied: pyparsing!=2.0.4,!=2.1.2,!=2.1.6,>=2.0.1 in /opt/conda/lib/python3.7/site-packages (from matplotlib->descartes) (2.4.2)\n",
      "Requirement already satisfied: six in /opt/conda/lib/python3.7/site-packages (from cycler>=0.10->matplotlib->descartes) (1.12.0)\n",
      "Requirement already satisfied: setuptools in /opt/conda/lib/python3.7/site-packages (from kiwisolver>=1.0.1->matplotlib->descartes) (41.0.1)\n",
      "Requirement already satisfied: geopandas in /opt/conda/lib/python3.7/site-packages (0.8.0+37.gd693267)\n",
      "Requirement already satisfied: shapely>=1.6 in /opt/conda/lib/python3.7/site-packages (from geopandas) (1.6.4.post2)\n",
      "Requirement already satisfied: pandas>=0.24.0 in /opt/conda/lib/python3.7/site-packages (from geopandas) (0.25.1)\n",
      "Requirement already satisfied: pyproj>=2.2.0 in /opt/conda/lib/python3.7/site-packages (from geopandas) (2.6.1.post1)\n",
      "Requirement already satisfied: fiona>=1.8 in /opt/conda/lib/python3.7/site-packages (from geopandas) (1.8.6)\n",
      "Requirement already satisfied: numpy>=1.13.3 in /opt/conda/lib/python3.7/site-packages (from pandas>=0.24.0->geopandas) (1.17.2)\n",
      "Requirement already satisfied: python-dateutil>=2.6.1 in /opt/conda/lib/python3.7/site-packages (from pandas>=0.24.0->geopandas) (2.8.0)\n",
      "Requirement already satisfied: pytz>=2017.2 in /opt/conda/lib/python3.7/site-packages (from pandas>=0.24.0->geopandas) (2019.2)\n",
      "Requirement already satisfied: attrs>=17 in /opt/conda/lib/python3.7/site-packages (from fiona>=1.8->geopandas) (19.1.0)\n",
      "Requirement already satisfied: click<8,>=4.0 in /opt/conda/lib/python3.7/site-packages (from fiona>=1.8->geopandas) (7.0)\n",
      "Requirement already satisfied: cligj>=0.5 in /opt/conda/lib/python3.7/site-packages (from fiona>=1.8->geopandas) (0.5.0)\n",
      "Requirement already satisfied: click-plugins>=1.0 in /opt/conda/lib/python3.7/site-packages (from fiona>=1.8->geopandas) (1.1.1)\n",
      "Requirement already satisfied: six>=1.7 in /opt/conda/lib/python3.7/site-packages (from fiona>=1.8->geopandas) (1.12.0)\n",
      "Requirement already satisfied: munch in /opt/conda/lib/python3.7/site-packages (from fiona>=1.8->geopandas) (2.3.2)\n",
      "Requirement already satisfied: folium in /opt/conda/lib/python3.7/site-packages (0.11.0)\n",
      "Requirement already satisfied: jinja2>=2.9 in /opt/conda/lib/python3.7/site-packages (from folium) (2.10.1)\n",
      "Requirement already satisfied: requests in /opt/conda/lib/python3.7/site-packages (from folium) (2.22.0)\n",
      "Requirement already satisfied: numpy in /opt/conda/lib/python3.7/site-packages (from folium) (1.17.2)\n",
      "Requirement already satisfied: branca>=0.3.0 in /opt/conda/lib/python3.7/site-packages (from folium) (0.4.1)\n",
      "Requirement already satisfied: MarkupSafe>=0.23 in /opt/conda/lib/python3.7/site-packages (from jinja2>=2.9->folium) (1.1.1)\n",
      "Requirement already satisfied: urllib3!=1.25.0,!=1.25.1,<1.26,>=1.21.1 in /opt/conda/lib/python3.7/site-packages (from requests->folium) (1.25.3)\n",
      "Requirement already satisfied: certifi>=2017.4.17 in /opt/conda/lib/python3.7/site-packages (from requests->folium) (2019.9.11)\n",
      "Requirement already satisfied: chardet<3.1.0,>=3.0.2 in /opt/conda/lib/python3.7/site-packages (from requests->folium) (3.0.4)\n",
      "Requirement already satisfied: idna<2.9,>=2.5 in /opt/conda/lib/python3.7/site-packages (from requests->folium) (2.8)\n",
      "Requirement already satisfied: tifffile in /opt/conda/lib/python3.7/site-packages (2020.9.3)\n",
      "Requirement already satisfied: numpy>=1.15.1 in /opt/conda/lib/python3.7/site-packages (from tifffile) (1.17.2)\n",
      "Requirement already satisfied: numexpr in /opt/conda/lib/python3.7/site-packages (2.6.9)\n",
      "Requirement already satisfied: numpy>=1.7 in /opt/conda/lib/python3.7/site-packages (from numexpr) (1.17.2)\n"
     ]
    }
   ],
   "source": [
    "!pip install sentinelsat\n",
    "!pip install rasterio\n",
    "!apt install gdal-bin python-gdal python3-gdal \n",
    "!apt install python3-rtree \n",
    "!pip install git+git://github.com/geopandas/geopandas.git\n",
    "!pip install descartes \n",
    "!pip install shapely\n",
    "!pip install six\n",
    "!pip install pyproj\n",
    "!pip install descartes\n",
    "!pip install geopandas\n",
    "!pip install folium\n",
    "!pip install tifffile\n",
    "!pip install numexpr"
   ]
  },
  {
   "cell_type": "code",
   "execution_count": 2,
   "metadata": {},
   "outputs": [],
   "source": [
    "import os\n",
    "import numpy as np\n",
    "\n",
    "from sentinelsat import SentinelAPI, read_geojson, geojson_to_wkt \n",
    "import geopandas as gpd\n",
    "import pandas as pd\n",
    "import numpy as np\n",
    "import matplotlib.pyplot as plt\n",
    "\n",
    "from shapely.geometry import MultiPolygon, Polygon\n",
    "import rasterio as rio\n",
    "from rasterio.plot import show\n",
    "import rasterio.mask\n",
    "import fiona\n",
    "import folium \n",
    "import zipfile\n",
    "import glob\n",
    "import gdal\n",
    "import tifffile\n",
    "from PIL import Image,ImageDraw,ImageFont\n",
    "import sys\n",
    "import shutil"
   ]
  },
  {
   "cell_type": "markdown",
   "metadata": {},
   "source": [
    "### 領域の指定"
   ]
  },
  {
   "cell_type": "code",
   "execution_count": 3,
   "metadata": {},
   "outputs": [
    {
     "name": "stderr",
     "output_type": "stream",
     "text": [
      "/opt/conda/lib/python3.7/site-packages/IPython/core/display.py:694: UserWarning: Consider using IPython.display.IFrame instead\n",
      "  warnings.warn(\"Consider using IPython.display.IFrame instead\")\n"
     ]
    },
    {
     "data": {
      "text/html": [
       "<iframe width=\"960\" height=\"480\" src=\"https://www.keene.edu/campus/maps/tool/\" frameborder=\"0\"></iframe>"
      ],
      "text/plain": [
       "<IPython.core.display.HTML object>"
      ]
     },
     "execution_count": 3,
     "metadata": {},
     "output_type": "execute_result"
    }
   ],
   "source": [
    "from IPython.display import HTML\n",
    "HTML(r'<iframe width=\"960\" height=\"480\" src=\"https://www.keene.edu/campus/maps/tool/\" frameborder=\"0\"></iframe>')"
   ]
  },
  {
   "cell_type": "markdown",
   "metadata": {},
   "source": [
    "右クリックでポイントを選択。Close Shapeで囲んだ図形を閉じる。 出てきた緯度経度をコピーする。"
   ]
  },
  {
   "cell_type": "code",
   "execution_count": 4,
   "metadata": {},
   "outputs": [],
   "source": [
    "# ディズニーのエリア\n",
    "AREA=[\n",
    "      [\n",
    "        -220.11445760000004, # 左上\n",
    "        35.643927399999995\n",
    "      ],\n",
    "      [\n",
    "        -220.1148008,#  左下\n",
    "        35.623513\n",
    "      ],\n",
    "      [\n",
    "        -220.09107740000002,#  右下\n",
    "        35.622887\n",
    "      ],\n",
    "      [\n",
    "        -220.09153500000002,#  右上\n",
    "        35.64358839999999        \n",
    "      ],\n",
    "      [\n",
    "        -220.11445760000004,#  左上\n",
    "        35.643927399999995\n",
    "      ]\n",
    "    ]"
   ]
  },
  {
   "cell_type": "markdown",
   "metadata": {},
   "source": [
    "### 抽出領域のポリゴンの作成"
   ]
  },
  {
   "cell_type": "code",
   "execution_count": 5,
   "metadata": {},
   "outputs": [],
   "source": [
    "# 経度の値を戻すために360度足す\n",
    "for i in range(len(AREA)):\n",
    "    AREA[i][0] = AREA[i][0] +360\n",
    "    \n",
    "from geojson import Polygon\n",
    "m=Polygon([AREA]) \n",
    "\n",
    "#ファイル名を定義. 好きな名称に設定してください. \n",
    "object_name = 'disneysisaku'\n",
    "\n",
    "import json\n",
    "with open(str(object_name) +'.geojson', 'w') as f:\n",
    "    json.dump(m, f)\n",
    "footprint_geojson = geojson_to_wkt(read_geojson(str(object_name) +'.geojson'))"
   ]
  },
  {
   "cell_type": "code",
   "execution_count": 6,
   "metadata": {},
   "outputs": [
    {
     "data": {
      "text/html": [
       "<div style=\"width:100%;\"><div style=\"position:relative;width:100%;height:0;padding-bottom:60%;\"><span style=\"color:#565656\">Make this Notebook Trusted to load map: File -> Trust Notebook</span><iframe src=\"about:blank\" style=\"position:absolute;width:100%;height:100%;left:0;top:0;border:none !important;\" data-html=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 onload=\"this.contentDocument.open();this.contentDocument.write(atob(this.getAttribute('data-html')));this.contentDocument.close();\" allowfullscreen webkitallowfullscreen mozallowfullscreen></iframe></div></div>"
      ],
      "text/plain": [
       "<folium.folium.Map at 0x7fe867d66518>"
      ]
     },
     "execution_count": 6,
     "metadata": {},
     "output_type": "execute_result"
    }
   ],
   "source": [
    "# ポリゴンが作れているかの確認\n",
    "\n",
    "m = folium.Map([(AREA[0][1]+AREA[len(AREA)-1][1])/2,(AREA[0][0]+AREA[len(AREA)-1][0])/2], zoom_start=10)\n",
    "\n",
    "folium.GeoJson(str(object_name) +'.geojson').add_to(m)\n",
    "m"
   ]
  },
  {
   "cell_type": "code",
   "execution_count": 7,
   "metadata": {},
   "outputs": [],
   "source": [
    "# フォントファイルの作成（任意）\n",
    "# 同じディレクトリ内に該当のファイルをダウンロードしておく\n",
    "# https://osdn.net/projects/mplus-fonts/downloads/62344/mplus-TESTFLIGHT-063a.tar.xz/\n",
    "!xz -dc mplus-TESTFLIGHT-*.tar.xz | tar xf -\n",
    "fontfile = \"./mplus-TESTFLIGHT-063a/mplus-1c-bold.ttf\"\n",
    "#cwd = os.getcwd()\n",
    "#suffix = '.ttf'\n",
    "#base_filename = 'mplus-1c-bold'\n",
    "#fontfile = os.path.join(cwd,'mplus-TESTFLIGHT-063a',base_filename + suffix)"
   ]
  },
  {
   "cell_type": "markdown",
   "metadata": {},
   "source": [
    "### Sentinel Hubからのデータの取得"
   ]
  },
  {
   "cell_type": "markdown",
   "metadata": {},
   "source": [
    "Sentinel Hub<https://scihub.copernicus.eu/dhus/#/self-registration>でアカウントを作成し、アカウント情報を以下へ入れる。"
   ]
  },
  {
   "cell_type": "code",
   "execution_count": 8,
   "metadata": {},
   "outputs": [],
   "source": [
    "user = 'Sentinel Hubのユーザー名を入れる' \n",
    "password = 'Sentinel Hubのパスワードを入れる' \n",
    "api = SentinelAPI(user, password, 'https://scihub.copernicus.eu/dhus')"
   ]
  },
  {
   "cell_type": "code",
   "execution_count": 9,
   "metadata": {},
   "outputs": [],
   "source": [
    "# 取得する期間を設定(過去1年分の指定が可能)\n",
    "Begin_date = '20190901'\n",
    "End_date = '20191225'"
   ]
  },
  {
   "cell_type": "code",
   "execution_count": 10,
   "metadata": {},
   "outputs": [],
   "source": [
    "# Sentinel-1の画像を取得する関数\n",
    "def Sentinel1_get():\n",
    "    #Sentinel-1のデータ取得条件\n",
    "    products = api.query(footprint_geojson,\n",
    "                 date =  (Begin_date, End_date), #取得希望期間の入力\n",
    "                 platformname = 'Sentinel-1',\n",
    "                 producttype = 'GRD', #SLC, OCN, RAW,\n",
    "                 Polarisationmode = 'VV'\n",
    "#                  productlevel = 'L1',\n",
    "#                  Mode = 'IW',\n",
    "#                  Polarisation = 'VH', #'VV \\n\",\n",
    "#                  Product =  'GRD'\n",
    "                 )  \n",
    "\n",
    "#     print(products) \n",
    "    products_gdf = api.to_geodataframe(products) \n",
    "#     print(len(products))\n",
    "#     print(products_gdf[\"orbitdirection\"])\n",
    "  \n",
    "    #Ascending観測のみを抽出\n",
    "    product_ged_descending = products_gdf[products_gdf['orbitdirection'] == 'ASCENDING']\n",
    "    print(product_ged_descending)\n",
    "\n",
    "\n",
    "    uuid = product_ged_descending.iloc[0][\"uuid\"]\n",
    "    print(uuid)\n",
    "    product_title = product_ged_descending.iloc[0][\"title\"]\n",
    "\n",
    "    #データの観測日を確認．\n",
    "    date = product_ged_descending.iloc[0][\"ingestiondate\"].strftime('%Y-%m-%d')\n",
    "    print(date)\n",
    "    #Sentinel-1 data download\n",
    "    api.download(uuid)\n",
    "    file_name = str(product_title) +'.zip'\n",
    "\n",
    "    # def desneylandy(filename):\n",
    "    with zipfile.ZipFile(file_name) as zf:\n",
    "        zf.extractall()\n",
    "\n",
    "    path = str(product_title) + '.SAFE/measurement'\n",
    "    files = os.listdir(path)\n",
    "\n",
    "    path_c = glob.glob(str(product_title) + '.SAFE/measurement/*[v][v]*.tiff')\n",
    "        #path_b = str(product_title) + '.SAFE/measurement/' + str(files[1])\n",
    "\n",
    "    path_b = path_c[0]\n",
    "    b = rio.open(str(path_b))\n",
    "    print(b)\n",
    "\n",
    "    gdal.Warp(path_b, path_b, dstSRS=\"EPSG:4326\")\n",
    "\n",
    "    nReserve_geo = gpd.read_file(str(object_name) +'.geojson')\n",
    "\n",
    "            #src = rio.open(r\\\"RGB.tiff\\\")\n",
    "    epsg = 'epsg:4326'\n",
    "    nReserve_proj = nReserve_geo.to_crs({'init': epsg})\n",
    "\n",
    "     #マスクTiffファイルの一時置き場\n",
    "    os.makedirs('./Image_tiff', exist_ok=True)  \n",
    "    \n",
    "    with rio.open(path_b) as src:\n",
    "        out_image, out_transform = rio.mask.mask(src, nReserve_proj.geometry,crop=True)\n",
    "        out_meta = src.meta.copy()\n",
    "        out_meta.update({\"driver\": \"GTiff\",\n",
    "                         \"height\": out_image.shape[1],\n",
    "                         \"width\": out_image.shape[2],\n",
    "                         \"transform\": out_transform})\n",
    "    with rio.open('./Image_tiff/Masked_' +str(object_name) +'.tif', \"w\", **out_meta) as dest:\n",
    "    # with rasterio.open('home/jovyan/work/Image_tiff/Masked_' +str(object_name) +'.tif', \"w\", **out_meta) as dest:\n",
    "        dest.write(out_image)\n",
    "\n",
    "    print('jpeg generation')\n",
    "\n",
    "    scale = '-scale 0 250 0 60' # '-scale 0 250 0 30'\n",
    "    options_list = [\n",
    "            '-ot Byte',\n",
    "            '-of JPEG',\n",
    "            scale\n",
    "          ] \n",
    "    options_string = \" \".join(options_list)\n",
    "\n",
    "        #ディレクトリの作成 \n",
    "    os.makedirs('./Image_jpeg_'+str(object_name), exist_ok=True)\n",
    "\n",
    "       \n",
    "    \n",
    "        #jpeg画像の保存．\n",
    "    gdal.Translate('./Image_jpeg_'+str(object_name) +'/' + str(Begin_date) + 'Masked_' +str(uuid) +'.jpg',\n",
    "                   './Image_tiff/Masked_' +str(object_name) +'.tif',\n",
    "                   options=options_string)\n",
    "\n",
    "            #画像への撮像日を記載\n",
    "    img = Image.open('./Image_jpeg_'+str(object_name) +'/' + str(Begin_date) + 'Masked_' +str(uuid) +'.jpg')\n",
    "\n",
    "    x = img.size[0]/100 #日付の記載位置の設定\n",
    "    y = img.size[1]/100 #日付の記載位置の設定\n",
    "    fs = img.size[0]/50 #日付のフォントサイズの設定\n",
    "    fs1 = int(fs)\n",
    "\n",
    "    obj_draw = ImageDraw.Draw(img)\n",
    "    obj_font = ImageFont.truetype(fontfile, fs1)\n",
    "    obj_draw.text((x, y), str(date), fill=(255),ont=obj_font)\n",
    "    obj_draw.text((img.size[0]/2, img.size[1]-y - img.size[1]/20 ), 'produced from ESA remote sensing data', fill=(255),font=obj_font)\n",
    "    img.save('./Image_jpeg_'+str(object_name) +'/' + str(Begin_date) + 'Masked_' +str(uuid) +'.jpg')\n",
    "#     print(img)\n",
    "            #不要なファイルの削除\n",
    "    shutil.rmtree( str(product_title) + '.SAFE')\n",
    "    os.remove(str(product_title) +'.zip')\n",
    "\n",
    "    return\n",
    "    "
   ]
  },
  {
   "cell_type": "markdown",
   "metadata": {},
   "source": [
    "## 月別の画像を取り出す"
   ]
  },
  {
   "cell_type": "code",
   "execution_count": 11,
   "metadata": {},
   "outputs": [],
   "source": [
    "    #以下のコードにて月数をカウントする\n",
    "d_year = int(End_date[2:4]) - int(Begin_date[2:4])\n",
    "d_year = d_year*12 + int(End_date[4:6]) - int(Begin_date[4:6])\n"
   ]
  },
  {
   "cell_type": "code",
   "execution_count": 12,
   "metadata": {},
   "outputs": [
    {
     "name": "stderr",
     "output_type": "stream",
     "text": [
      "/opt/conda/lib/python3.7/site-packages/pyproj/crs/crs.py:53: FutureWarning: '+init=<authority>:<code>' syntax is deprecated. '<authority>:<code>' is the preferred initialization method. When making the change, be mindful of axis order changes: https://pyproj4.github.io/pyproj/stable/gotchas.html#axis-order-changes-in-proj-6\n",
      "  return _prepare_from_string(\" \".join(pjargs))\n"
     ]
    },
    {
     "name": "stdout",
     "output_type": "stream",
     "text": [
      "                                                                                  title  \\\n",
      "b2ad6fbe-da95-4650-82df-15624c9c670b  S1B_IW_GRDH_1SDV_20190918T084135_20190918T0842...   \n",
      "c8756e5b-96b4-49ac-8bc5-656e9436a8d0  S1B_IW_GRDH_1SDV_20190906T084135_20190906T0842...   \n",
      "\n",
      "                                                                                   link  \\\n",
      "b2ad6fbe-da95-4650-82df-15624c9c670b  https://scihub.copernicus.eu/dhus/odata/v1/Pro...   \n",
      "c8756e5b-96b4-49ac-8bc5-656e9436a8d0  https://scihub.copernicus.eu/dhus/odata/v1/Pro...   \n",
      "\n",
      "                                                                       link_alternative  \\\n",
      "b2ad6fbe-da95-4650-82df-15624c9c670b  https://scihub.copernicus.eu/dhus/odata/v1/Pro...   \n",
      "c8756e5b-96b4-49ac-8bc5-656e9436a8d0  https://scihub.copernicus.eu/dhus/odata/v1/Pro...   \n",
      "\n",
      "                                                                              link_icon  \\\n",
      "b2ad6fbe-da95-4650-82df-15624c9c670b  https://scihub.copernicus.eu/dhus/odata/v1/Pro...   \n",
      "c8756e5b-96b4-49ac-8bc5-656e9436a8d0  https://scihub.copernicus.eu/dhus/odata/v1/Pro...   \n",
      "\n",
      "                                                                                summary  \\\n",
      "b2ad6fbe-da95-4650-82df-15624c9c670b  Date: 2019-09-18T08:41:35.709Z, Instrument: SA...   \n",
      "c8756e5b-96b4-49ac-8bc5-656e9436a8d0  Date: 2019-09-06T08:41:35.324Z, Instrument: SA...   \n",
      "\n",
      "                                               beginposition  \\\n",
      "b2ad6fbe-da95-4650-82df-15624c9c670b 2019-09-18 08:41:35.709   \n",
      "c8756e5b-96b4-49ac-8bc5-656e9436a8d0 2019-09-06 08:41:35.324   \n",
      "\n",
      "                                                 endposition  \\\n",
      "b2ad6fbe-da95-4650-82df-15624c9c670b 2019-09-18 08:42:00.707   \n",
      "c8756e5b-96b4-49ac-8bc5-656e9436a8d0 2019-09-06 08:42:00.322   \n",
      "\n",
      "                                               ingestiondate  \\\n",
      "b2ad6fbe-da95-4650-82df-15624c9c670b 2019-09-18 14:17:18.955   \n",
      "c8756e5b-96b4-49ac-8bc5-656e9436a8d0 2019-09-06 11:54:58.562   \n",
      "\n",
      "                                      missiondatatakeid  slicenumber  ...  \\\n",
      "b2ad6fbe-da95-4650-82df-15624c9c670b             139504            3  ...   \n",
      "c8756e5b-96b4-49ac-8bc5-656e9436a8d0             138102            3  ...   \n",
      "\n",
      "                                                                               filename  \\\n",
      "b2ad6fbe-da95-4650-82df-15624c9c670b  S1B_IW_GRDH_1SDV_20190918T084135_20190918T0842...   \n",
      "c8756e5b-96b4-49ac-8bc5-656e9436a8d0  S1B_IW_GRDH_1SDV_20190906T084135_20190906T0842...   \n",
      "\n",
      "                                      format  productclass  polarisationmode  \\\n",
      "b2ad6fbe-da95-4650-82df-15624c9c670b    SAFE             S             VV VH   \n",
      "c8756e5b-96b4-49ac-8bc5-656e9436a8d0    SAFE             S             VV VH   \n",
      "\n",
      "                                     acquisitiontype    status     size  \\\n",
      "b2ad6fbe-da95-4650-82df-15624c9c670b         NOMINAL  ARCHIVED  1.59 GB   \n",
      "c8756e5b-96b4-49ac-8bc5-656e9436a8d0         NOMINAL  ARCHIVED  1.59 GB   \n",
      "\n",
      "                                                                             identifier  \\\n",
      "b2ad6fbe-da95-4650-82df-15624c9c670b  S1B_IW_GRDH_1SDV_20190918T084135_20190918T0842...   \n",
      "c8756e5b-96b4-49ac-8bc5-656e9436a8d0  S1B_IW_GRDH_1SDV_20190906T084135_20190906T0842...   \n",
      "\n",
      "                                                                      uuid  \\\n",
      "b2ad6fbe-da95-4650-82df-15624c9c670b  b2ad6fbe-da95-4650-82df-15624c9c670b   \n",
      "c8756e5b-96b4-49ac-8bc5-656e9436a8d0  c8756e5b-96b4-49ac-8bc5-656e9436a8d0   \n",
      "\n",
      "                                                                               geometry  \n",
      "b2ad6fbe-da95-4650-82df-15624c9c670b  MULTIPOLYGON (((138.00259 35.30828, 140.76854 ...  \n",
      "c8756e5b-96b4-49ac-8bc5-656e9436a8d0  MULTIPOLYGON (((138.00154 35.30828, 140.76749 ...  \n",
      "\n",
      "[2 rows x 33 columns]\n",
      "b2ad6fbe-da95-4650-82df-15624c9c670b\n",
      "2019-09-18\n"
     ]
    },
    {
     "name": "stderr",
     "output_type": "stream",
     "text": [
      "Downloading: 100%|██████████| 1.09G/1.09G [01:29<00:00, 12.2MB/s]\n",
      "MD5 checksumming: 100%|██████████| 1.09G/1.09G [00:02<00:00, 374MB/s]\n",
      "/opt/conda/lib/python3.7/site-packages/rasterio/__init__.py:218: NotGeoreferencedWarning: Dataset has no geotransform set. The identity matrix may be returned.\n",
      "  s = DatasetReader(path, driver=driver, sharing=sharing, **kwargs)\n"
     ]
    },
    {
     "name": "stdout",
     "output_type": "stream",
     "text": [
      "<open DatasetReader name='S1B_IW_GRDH_1SDV_20190918T084135_20190918T084200_018090_0220F0_C276.SAFE/measurement/s1b-iw-grd-vv-20190918t084135-20190918t084200-018090-0220f0-001.tiff' mode='r'>\n",
      "jpeg generation\n",
      "                                                                                  title  \\\n",
      "b0ddba0e-d835-46cf-b988-19ef6f7d7a75  S1B_IW_GRDH_1SDV_20191024T084136_20191024T0842...   \n",
      "3cb7b306-c3df-4041-a4df-64be86bc53cc  S1A_IW_GRDH_1SDV_20191018T084215_20191018T0842...   \n",
      "5d4369a7-da62-4798-9621-a4bc7e5de301  S1B_IW_GRDH_1SDV_20191012T084122_20191012T0841...   \n",
      "\n",
      "                                                                                   link  \\\n",
      "b0ddba0e-d835-46cf-b988-19ef6f7d7a75  https://scihub.copernicus.eu/dhus/odata/v1/Pro...   \n",
      "3cb7b306-c3df-4041-a4df-64be86bc53cc  https://scihub.copernicus.eu/dhus/odata/v1/Pro...   \n",
      "5d4369a7-da62-4798-9621-a4bc7e5de301  https://scihub.copernicus.eu/dhus/odata/v1/Pro...   \n",
      "\n",
      "                                                                       link_alternative  \\\n",
      "b0ddba0e-d835-46cf-b988-19ef6f7d7a75  https://scihub.copernicus.eu/dhus/odata/v1/Pro...   \n",
      "3cb7b306-c3df-4041-a4df-64be86bc53cc  https://scihub.copernicus.eu/dhus/odata/v1/Pro...   \n",
      "5d4369a7-da62-4798-9621-a4bc7e5de301  https://scihub.copernicus.eu/dhus/odata/v1/Pro...   \n",
      "\n",
      "                                                                              link_icon  \\\n",
      "b0ddba0e-d835-46cf-b988-19ef6f7d7a75  https://scihub.copernicus.eu/dhus/odata/v1/Pro...   \n",
      "3cb7b306-c3df-4041-a4df-64be86bc53cc  https://scihub.copernicus.eu/dhus/odata/v1/Pro...   \n",
      "5d4369a7-da62-4798-9621-a4bc7e5de301  https://scihub.copernicus.eu/dhus/odata/v1/Pro...   \n",
      "\n",
      "                                                                                summary  \\\n",
      "b0ddba0e-d835-46cf-b988-19ef6f7d7a75  Date: 2019-10-24T08:41:36.346Z, Instrument: SA...   \n",
      "3cb7b306-c3df-4041-a4df-64be86bc53cc  Date: 2019-10-18T08:42:15.047Z, Instrument: SA...   \n",
      "5d4369a7-da62-4798-9621-a4bc7e5de301  Date: 2019-10-12T08:41:22.439Z, Instrument: SA...   \n",
      "\n",
      "                                               beginposition  \\\n",
      "b0ddba0e-d835-46cf-b988-19ef6f7d7a75 2019-10-24 08:41:36.346   \n",
      "3cb7b306-c3df-4041-a4df-64be86bc53cc 2019-10-18 08:42:15.047   \n",
      "5d4369a7-da62-4798-9621-a4bc7e5de301 2019-10-12 08:41:22.439   \n",
      "\n",
      "                                                 endposition  \\\n",
      "b0ddba0e-d835-46cf-b988-19ef6f7d7a75 2019-10-24 08:42:01.345   \n",
      "3cb7b306-c3df-4041-a4df-64be86bc53cc 2019-10-18 08:42:40.045   \n",
      "5d4369a7-da62-4798-9621-a4bc7e5de301 2019-10-12 08:41:47.438   \n",
      "\n",
      "                                               ingestiondate  \\\n",
      "b0ddba0e-d835-46cf-b988-19ef6f7d7a75 2019-10-24 12:25:11.060   \n",
      "3cb7b306-c3df-4041-a4df-64be86bc53cc 2019-10-18 12:10:41.192   \n",
      "5d4369a7-da62-4798-9621-a4bc7e5de301 2019-10-12 12:23:26.876   \n",
      "\n",
      "                                      missiondatatakeid  slicenumber  ...  \\\n",
      "b0ddba0e-d835-46cf-b988-19ef6f7d7a75             143652            3  ...   \n",
      "3cb7b306-c3df-4041-a4df-64be86bc53cc             220077            2  ...   \n",
      "5d4369a7-da62-4798-9621-a4bc7e5de301             142289            3  ...   \n",
      "\n",
      "                                                                               filename  \\\n",
      "b0ddba0e-d835-46cf-b988-19ef6f7d7a75  S1B_IW_GRDH_1SDV_20191024T084136_20191024T0842...   \n",
      "3cb7b306-c3df-4041-a4df-64be86bc53cc  S1A_IW_GRDH_1SDV_20191018T084215_20191018T0842...   \n",
      "5d4369a7-da62-4798-9621-a4bc7e5de301  S1B_IW_GRDH_1SDV_20191012T084122_20191012T0841...   \n",
      "\n",
      "                                      format  productclass  polarisationmode  \\\n",
      "b0ddba0e-d835-46cf-b988-19ef6f7d7a75    SAFE             S             VV VH   \n",
      "3cb7b306-c3df-4041-a4df-64be86bc53cc    SAFE             S             VV VH   \n",
      "5d4369a7-da62-4798-9621-a4bc7e5de301    SAFE             S             VV VH   \n",
      "\n",
      "                                     acquisitiontype    status     size  \\\n",
      "b0ddba0e-d835-46cf-b988-19ef6f7d7a75         NOMINAL  ARCHIVED  1.59 GB   \n",
      "3cb7b306-c3df-4041-a4df-64be86bc53cc         NOMINAL  ARCHIVED  1.58 GB   \n",
      "5d4369a7-da62-4798-9621-a4bc7e5de301         NOMINAL  ARCHIVED  1.59 GB   \n",
      "\n",
      "                                                                             identifier  \\\n",
      "b0ddba0e-d835-46cf-b988-19ef6f7d7a75  S1B_IW_GRDH_1SDV_20191024T084136_20191024T0842...   \n",
      "3cb7b306-c3df-4041-a4df-64be86bc53cc  S1A_IW_GRDH_1SDV_20191018T084215_20191018T0842...   \n",
      "5d4369a7-da62-4798-9621-a4bc7e5de301  S1B_IW_GRDH_1SDV_20191012T084122_20191012T0841...   \n",
      "\n",
      "                                                                      uuid  \\\n",
      "b0ddba0e-d835-46cf-b988-19ef6f7d7a75  b0ddba0e-d835-46cf-b988-19ef6f7d7a75   \n",
      "3cb7b306-c3df-4041-a4df-64be86bc53cc  3cb7b306-c3df-4041-a4df-64be86bc53cc   \n",
      "5d4369a7-da62-4798-9621-a4bc7e5de301  5d4369a7-da62-4798-9621-a4bc7e5de301   \n",
      "\n",
      "                                                                               geometry  \n",
      "b0ddba0e-d835-46cf-b988-19ef6f7d7a75  MULTIPOLYGON (((138.00217 35.30823, 140.76833 ...  \n",
      "3cb7b306-c3df-4041-a4df-64be86bc53cc  MULTIPOLYGON (((138.03847 35.13079, 140.78040 ...  \n",
      "5d4369a7-da62-4798-9621-a4bc7e5de301  MULTIPOLYGON (((138.17728 34.47489, 140.91586 ...  \n",
      "\n",
      "[3 rows x 33 columns]\n",
      "b0ddba0e-d835-46cf-b988-19ef6f7d7a75\n",
      "2019-10-24\n"
     ]
    },
    {
     "name": "stderr",
     "output_type": "stream",
     "text": [
      "Downloading: 100%|██████████| 1.08G/1.08G [01:29<00:00, 12.1MB/s]\n",
      "MD5 checksumming: 100%|██████████| 1.08G/1.08G [00:03<00:00, 329MB/s]\n"
     ]
    },
    {
     "name": "stdout",
     "output_type": "stream",
     "text": [
      "<open DatasetReader name='S1B_IW_GRDH_1SDV_20191024T084136_20191024T084201_018615_023124_BEDD.SAFE/measurement/s1b-iw-grd-vv-20191024t084136-20191024t084201-018615-023124-001.tiff' mode='r'>\n",
      "jpeg generation\n",
      "                                                                                  title  \\\n",
      "e85fab24-34ab-4743-95d8-22f7a44f7495  S1B_IW_GRDH_1SDV_20191117T084136_20191117T0842...   \n",
      "c6c43d3d-9b7c-4efd-9c70-4a7732cd189c  S1B_IW_GRDH_1SDV_20191105T084136_20191105T0842...   \n",
      "\n",
      "                                                                                   link  \\\n",
      "e85fab24-34ab-4743-95d8-22f7a44f7495  https://scihub.copernicus.eu/dhus/odata/v1/Pro...   \n",
      "c6c43d3d-9b7c-4efd-9c70-4a7732cd189c  https://scihub.copernicus.eu/dhus/odata/v1/Pro...   \n",
      "\n",
      "                                                                       link_alternative  \\\n",
      "e85fab24-34ab-4743-95d8-22f7a44f7495  https://scihub.copernicus.eu/dhus/odata/v1/Pro...   \n",
      "c6c43d3d-9b7c-4efd-9c70-4a7732cd189c  https://scihub.copernicus.eu/dhus/odata/v1/Pro...   \n",
      "\n",
      "                                                                              link_icon  \\\n",
      "e85fab24-34ab-4743-95d8-22f7a44f7495  https://scihub.copernicus.eu/dhus/odata/v1/Pro...   \n",
      "c6c43d3d-9b7c-4efd-9c70-4a7732cd189c  https://scihub.copernicus.eu/dhus/odata/v1/Pro...   \n",
      "\n",
      "                                                                                summary  \\\n",
      "e85fab24-34ab-4743-95d8-22f7a44f7495  Date: 2019-11-17T08:41:36.189Z, Instrument: SA...   \n",
      "c6c43d3d-9b7c-4efd-9c70-4a7732cd189c  Date: 2019-11-05T08:41:36.152Z, Instrument: SA...   \n",
      "\n",
      "                                               beginposition  \\\n",
      "e85fab24-34ab-4743-95d8-22f7a44f7495 2019-11-17 08:41:36.189   \n",
      "c6c43d3d-9b7c-4efd-9c70-4a7732cd189c 2019-11-05 08:41:36.152   \n",
      "\n",
      "                                                 endposition  \\\n",
      "e85fab24-34ab-4743-95d8-22f7a44f7495 2019-11-17 08:42:01.188   \n",
      "c6c43d3d-9b7c-4efd-9c70-4a7732cd189c 2019-11-05 08:42:01.151   \n",
      "\n",
      "                                               ingestiondate  \\\n",
      "e85fab24-34ab-4743-95d8-22f7a44f7495 2019-11-17 12:07:49.274   \n",
      "c6c43d3d-9b7c-4efd-9c70-4a7732cd189c 2019-11-05 12:57:21.915   \n",
      "\n",
      "                                      missiondatatakeid  slicenumber  ...  \\\n",
      "e85fab24-34ab-4743-95d8-22f7a44f7495             146542            3  ...   \n",
      "c6c43d3d-9b7c-4efd-9c70-4a7732cd189c             145076            3  ...   \n",
      "\n",
      "                                                                               filename  \\\n",
      "e85fab24-34ab-4743-95d8-22f7a44f7495  S1B_IW_GRDH_1SDV_20191117T084136_20191117T0842...   \n",
      "c6c43d3d-9b7c-4efd-9c70-4a7732cd189c  S1B_IW_GRDH_1SDV_20191105T084136_20191105T0842...   \n",
      "\n",
      "                                      format  productclass  polarisationmode  \\\n",
      "e85fab24-34ab-4743-95d8-22f7a44f7495    SAFE             S             VV VH   \n",
      "c6c43d3d-9b7c-4efd-9c70-4a7732cd189c    SAFE             S             VV VH   \n",
      "\n",
      "                                     acquisitiontype    status     size  \\\n",
      "e85fab24-34ab-4743-95d8-22f7a44f7495         NOMINAL  ARCHIVED  1.59 GB   \n",
      "c6c43d3d-9b7c-4efd-9c70-4a7732cd189c         NOMINAL  ARCHIVED  1.59 GB   \n",
      "\n",
      "                                                                             identifier  \\\n",
      "e85fab24-34ab-4743-95d8-22f7a44f7495  S1B_IW_GRDH_1SDV_20191117T084136_20191117T0842...   \n",
      "c6c43d3d-9b7c-4efd-9c70-4a7732cd189c  S1B_IW_GRDH_1SDV_20191105T084136_20191105T0842...   \n",
      "\n",
      "                                                                      uuid  \\\n",
      "e85fab24-34ab-4743-95d8-22f7a44f7495  e85fab24-34ab-4743-95d8-22f7a44f7495   \n",
      "c6c43d3d-9b7c-4efd-9c70-4a7732cd189c  c6c43d3d-9b7c-4efd-9c70-4a7732cd189c   \n",
      "\n",
      "                                                                               geometry  \n",
      "e85fab24-34ab-4743-95d8-22f7a44f7495  MULTIPOLYGON (((138.00076 35.30817, 140.76714 ...  \n",
      "c6c43d3d-9b7c-4efd-9c70-4a7732cd189c  MULTIPOLYGON (((138.00182 35.30817, 140.76819 ...  \n",
      "\n",
      "[2 rows x 33 columns]\n",
      "e85fab24-34ab-4743-95d8-22f7a44f7495\n",
      "2019-11-17\n"
     ]
    },
    {
     "name": "stderr",
     "output_type": "stream",
     "text": [
      "Downloading: 100%|██████████| 1.07G/1.07G [01:28<00:00, 12.1MB/s]\n",
      "MD5 checksumming: 100%|██████████| 1.07G/1.07G [00:03<00:00, 330MB/s]\n"
     ]
    },
    {
     "name": "stdout",
     "output_type": "stream",
     "text": [
      "<open DatasetReader name='S1B_IW_GRDH_1SDV_20191117T084136_20191117T084201_018965_023C6E_2A28.SAFE/measurement/s1b-iw-grd-vv-20191117t084136-20191117t084201-018965-023c6e-001.tiff' mode='r'>\n",
      "jpeg generation\n",
      "                                                                                  title  \\\n",
      "00810f1f-f749-4598-b3d8-3dcfed6909f9  S1B_IW_GRDH_1SDV_20191223T084134_20191223T0841...   \n",
      "fd4e139d-c043-42e7-966a-932a586a71ed  S1B_IW_GRDH_1SDV_20191211T084135_20191211T0842...   \n",
      "\n",
      "                                                                                   link  \\\n",
      "00810f1f-f749-4598-b3d8-3dcfed6909f9  https://scihub.copernicus.eu/dhus/odata/v1/Pro...   \n",
      "fd4e139d-c043-42e7-966a-932a586a71ed  https://scihub.copernicus.eu/dhus/odata/v1/Pro...   \n",
      "\n",
      "                                                                       link_alternative  \\\n",
      "00810f1f-f749-4598-b3d8-3dcfed6909f9  https://scihub.copernicus.eu/dhus/odata/v1/Pro...   \n",
      "fd4e139d-c043-42e7-966a-932a586a71ed  https://scihub.copernicus.eu/dhus/odata/v1/Pro...   \n",
      "\n",
      "                                                                              link_icon  \\\n",
      "00810f1f-f749-4598-b3d8-3dcfed6909f9  https://scihub.copernicus.eu/dhus/odata/v1/Pro...   \n",
      "fd4e139d-c043-42e7-966a-932a586a71ed  https://scihub.copernicus.eu/dhus/odata/v1/Pro...   \n",
      "\n",
      "                                                                                summary  \\\n",
      "00810f1f-f749-4598-b3d8-3dcfed6909f9  Date: 2019-12-23T08:41:34.85Z, Instrument: SAR...   \n",
      "fd4e139d-c043-42e7-966a-932a586a71ed  Date: 2019-12-11T08:41:35.355Z, Instrument: SA...   \n",
      "\n",
      "                                               beginposition  \\\n",
      "00810f1f-f749-4598-b3d8-3dcfed6909f9 2019-12-23 08:41:34.850   \n",
      "fd4e139d-c043-42e7-966a-932a586a71ed 2019-12-11 08:41:35.355   \n",
      "\n",
      "                                                 endposition  \\\n",
      "00810f1f-f749-4598-b3d8-3dcfed6909f9 2019-12-23 08:41:59.849   \n",
      "fd4e139d-c043-42e7-966a-932a586a71ed 2019-12-11 08:42:00.353   \n",
      "\n",
      "                                               ingestiondate  \\\n",
      "00810f1f-f749-4598-b3d8-3dcfed6909f9 2019-12-23 12:57:43.942   \n",
      "fd4e139d-c043-42e7-966a-932a586a71ed 2019-12-11 12:54:23.748   \n",
      "\n",
      "                                      missiondatatakeid  slicenumber  ...  \\\n",
      "00810f1f-f749-4598-b3d8-3dcfed6909f9             150812            3  ...   \n",
      "fd4e139d-c043-42e7-966a-932a586a71ed             149393            3  ...   \n",
      "\n",
      "                                                                               filename  \\\n",
      "00810f1f-f749-4598-b3d8-3dcfed6909f9  S1B_IW_GRDH_1SDV_20191223T084134_20191223T0841...   \n",
      "fd4e139d-c043-42e7-966a-932a586a71ed  S1B_IW_GRDH_1SDV_20191211T084135_20191211T0842...   \n",
      "\n",
      "                                      format  productclass  polarisationmode  \\\n",
      "00810f1f-f749-4598-b3d8-3dcfed6909f9    SAFE             S             VV VH   \n",
      "fd4e139d-c043-42e7-966a-932a586a71ed    SAFE             S             VV VH   \n",
      "\n",
      "                                     acquisitiontype    status     size  \\\n",
      "00810f1f-f749-4598-b3d8-3dcfed6909f9         NOMINAL  ARCHIVED  1.59 GB   \n",
      "fd4e139d-c043-42e7-966a-932a586a71ed         NOMINAL  ARCHIVED  1.59 GB   \n",
      "\n",
      "                                                                             identifier  \\\n",
      "00810f1f-f749-4598-b3d8-3dcfed6909f9  S1B_IW_GRDH_1SDV_20191223T084134_20191223T0841...   \n",
      "fd4e139d-c043-42e7-966a-932a586a71ed  S1B_IW_GRDH_1SDV_20191211T084135_20191211T0842...   \n",
      "\n",
      "                                                                      uuid  \\\n",
      "00810f1f-f749-4598-b3d8-3dcfed6909f9  00810f1f-f749-4598-b3d8-3dcfed6909f9   \n",
      "fd4e139d-c043-42e7-966a-932a586a71ed  fd4e139d-c043-42e7-966a-932a586a71ed   \n",
      "\n",
      "                                                                               geometry  \n",
      "00810f1f-f749-4598-b3d8-3dcfed6909f9  MULTIPOLYGON (((138.00214 35.30811, 140.76862 ...  \n",
      "fd4e139d-c043-42e7-966a-932a586a71ed  MULTIPOLYGON (((138.00232 35.30815, 140.76881 ...  \n",
      "\n",
      "[2 rows x 33 columns]\n",
      "00810f1f-f749-4598-b3d8-3dcfed6909f9\n",
      "2019-12-23\n"
     ]
    },
    {
     "name": "stderr",
     "output_type": "stream",
     "text": [
      "Downloading: 100%|██████████| 1.07G/1.07G [01:28<00:00, 12.1MB/s]\n",
      "MD5 checksumming: 100%|██████████| 1.07G/1.07G [00:02<00:00, 369MB/s]\n"
     ]
    },
    {
     "name": "stdout",
     "output_type": "stream",
     "text": [
      "<open DatasetReader name='S1B_IW_GRDH_1SDV_20191223T084134_20191223T084159_019490_024D1C_FCEB.SAFE/measurement/s1b-iw-grd-vv-20191223t084134-20191223t084159-019490-024d1c-001.tiff' mode='r'>\n",
      "jpeg generation\n"
     ]
    }
   ],
   "source": [
    "\n",
    "for i in range(d_year + 1):\n",
    "    if i < 1:\n",
    "        m = int(Begin_date[4:6])\n",
    "    else:\n",
    "        m = int(Begin_date[4:6]) +1\n",
    "    #print(m)\n",
    "    if m <10:\n",
    "        Begin_date = Begin_date[:4] +'0'+ str(m) + Begin_date[6:]\n",
    "    elif m <13:\n",
    "        Begin_date = Begin_date[:4] + str(m) + Begin_date[6:]\n",
    "    else:\n",
    "        y = int(Begin_date[2:4]) +1\n",
    "        Begin_date = Begin_date[:2] + str(y) + '01' + Begin_date[6:]\n",
    "    End_date = Begin_date[:6] +'28' \n",
    "    \n",
    "    Sentinel1_get()"
   ]
  },
  {
   "cell_type": "markdown",
   "metadata": {},
   "source": [
    "## 駐車場の形に切り抜く"
   ]
  },
  {
   "cell_type": "code",
   "execution_count": 13,
   "metadata": {},
   "outputs": [],
   "source": [
    "import glob\n",
    "from PIL import Image\n",
    "import numpy as np\n",
    "import os, json, requests, math, glob\n",
    "from skimage import io\n",
    "from io import BytesIO\n",
    "import matplotlib.pyplot as plt\n",
    "from skimage.draw import polygon\n",
    "%matplotlib inline\n",
    "import cv2\n"
   ]
  },
  {
   "cell_type": "markdown",
   "metadata": {},
   "source": [
    "### 画像のリサイズを行う"
   ]
  },
  {
   "cell_type": "code",
   "execution_count": 14,
   "metadata": {},
   "outputs": [
    {
     "name": "stdout",
     "output_type": "stream",
     "text": [
      "./resize_image_sisaku/resize_20191201Masked_00810f1f-f749-4598-b3d8-3dcfed6909f9.jpg\n",
      "./resize_image_sisaku/resize_20190901Masked_b2ad6fbe-da95-4650-82df-15624c9c670b.jpg\n",
      "./resize_image_sisaku/resize_20191101Masked_e85fab24-34ab-4743-95d8-22f7a44f7495.jpg\n",
      "./resize_image_sisaku/resize_20191001Masked_b0ddba0e-d835-46cf-b988-19ef6f7d7a75.jpg\n"
     ]
    }
   ],
   "source": [
    "path3='./resize_image_sisaku/'\n",
    "os.makedirs(path3, exist_ok=True)\n",
    "\n",
    "# リサイズ \n",
    "for f in glob.glob(\"./Image_jpeg_disneysisaku/*.jpg\"):\n",
    "    img = Image.open(f)\n",
    "    img_resize = img.resize((256, 256))\n",
    "#     title, ext = os.path.splitext(f)\n",
    "#     img_resize.save(title + '_resize' + ext)\n",
    "    imgdir3 = os.path.dirname(path3)\n",
    "    imgname3 = os.path.basename(f)\n",
    "    newfname3 = imgdir3 + \"/resize_\" + imgname3\n",
    "    print(newfname3)\n",
    "   \n",
    "    img_resize.save( newfname3)"
   ]
  },
  {
   "cell_type": "markdown",
   "metadata": {},
   "source": [
    "### 画像の切り抜き\n"
   ]
  },
  {
   "cell_type": "code",
   "execution_count": 15,
   "metadata": {},
   "outputs": [],
   "source": [
    "# Tellusの開発環境のトークンを貼り付ける\n",
    "# トークンの取得は以下の記事を参考に\n",
    "# https://www.tellusxdp.com/ja/howtouse/dev/install_development_environment.html\n",
    "TOKEN = \"ココには自分のトークンを入れる\""
   ]
  },
  {
   "cell_type": "code",
   "execution_count": 16,
   "metadata": {},
   "outputs": [],
   "source": [
    "# Tellus OSからgeojsonファイルを取ってくる\n",
    "def  get_shape_geojson_by_name(name):\n",
    "    URL = \"https://api.tellusxdp.com/v1/shapes?page=2\"\n",
    "\n",
    "    headers = {\n",
    "        \"Authorization\": \"Bearer \" + TOKEN\n",
    "    }\n",
    "    \n",
    "    r = requests.get(URL , headers=headers)\n",
    "    print(r)\n",
    "    shapes = r.json()\n",
    "    print(shapes) \n",
    "# Tellus OSからシェープの一覧を取ってくるときの一覧を表示\n",
    "    shape = next((shape for shape in shapes[\"items\"] if shape[\"name\"]==name))\n",
    "    return json.loads(shape[\"data\"])"
   ]
  },
  {
   "cell_type": "code",
   "execution_count": 17,
   "metadata": {},
   "outputs": [],
   "source": [
    "def get_polygon_image(points, bbox, imgsize):\n",
    "    def world2pixel(bbox, size, lon, lat):\n",
    "        \"\"\"\n",
    "        経度緯度をピクセル座標に変換\n",
    "        \"\"\"\n",
    "        dist = ((bbox[2] - bbox[0])/size[0], (bbox[3] - bbox[1])/size[1])\n",
    "        pixel = (int((lon - bbox[0]) / dist[0]), int((bbox[3] - lat) / dist[1]))\n",
    "     \n",
    "        return pixel\n",
    "    \n",
    "    pixels = []\n",
    "    for p in points:\n",
    "        pixels.append(world2pixel(bbox, (imgsize[\"width\"], imgsize[\"height\"]), p[0], p[1]))\n",
    "    pixels = np.array(pixels)\n",
    "\n",
    "    poly = np.ones((imgsize[\"height\"], imgsize[\"width\"]), dtype=np.uint8)\n",
    "    rr, cc = polygon(pixels[:, 1], pixels[:, 0], poly.shape)\n",
    "    poly[rr, cc] = 0\n",
    "    return poly"
   ]
  },
  {
   "cell_type": "code",
   "execution_count": 18,
   "metadata": {},
   "outputs": [
    {
     "name": "stdout",
     "output_type": "stream",
     "text": [
      "<Response [200]>\n",
      "{'count': 3, 'hasMore': False, 'items': [{'id': 'a8401a92-4b4d-4f98-88a7-63396a5d036f', 'createdAt': 1596361560, 'updatedAt': 1596877240, 'name': 'circle-16', 'transparency': 0.5, 'windowNumber': 1, 'isVisible': False, 'data': '{\"type\":\"FeatureCollection\",\"features\":[{\"properties\":{\"note\":\"\",\"radius\":\"1516.29 m\",\"radius_m\":\"1.52 km\",\"radius_mile\":\"1658 yd\",\"area_m\":\"7.22 km²\",\"area_mile\":\"2.79 mi²\",\"drawtype\":\"circle\",\"drawname\":\"circle\",\"rate\":0.5,\"figName\":\"circle-16\",\"isVisible\":true,\"divid1\":\"divfigmapMain32\",\"divid2\":\"divfigmapTMain32\",\"_weight\":4,\"_color\":\"#3388ff\",\"_dashArray\":null,\"_opacity\":0.5,\"_fillColor\":\"#3388ff\",\"_fillOpacity\":0.2,\"figServerId\":\"a8401a92-4b4d-4f98-88a7-63396a5d036f\",\"divMasteri\":\"divfigmapLstMain32\"},\"type\":\"Feature\",\"geometry\":{\"type\":\"Point\",\"coordinates\":[139.883752,35.631426]}}]}', 'options': '{\"stroke\":true,\"color\":\"#3388ff\",\"weight\":4,\"opacity\":0.5,\"fill\":true,\"fillColor\":\"#3388ff\",\"fillOpacity\":0.2,\"clickable\":true,\"radius\":1538.316833313783,\"_dashArray\":null,\"dashArray\":null}'}, {'id': '15250715-a0a0-4048-bd0c-2a1c1c22146d', 'createdAt': 1596875123, 'updatedAt': 1596891517, 'name': 'disneyland17', 'transparency': 0.5, 'windowNumber': 1, 'isVisible': True, 'data': '{\"type\":\"FeatureCollection\",\"features\":[{\"properties\":{\"note\":\"\",\"distance_m\":\"1.02 km\",\"distance_mile\":\"1120 yd\",\"drawtype\":\"polygon\",\"drawname\":\"polygon\",\"area_m\":\"61774 m²\",\"area_mile\":\"15.26 acres\",\"_color\":\"#3388ff\",\"_weight\":4,\"_opacity\":0.5,\"_fillColor\":\"#3388ff\",\"_fillOpacity\":0.2,\"rate\":0.5,\"figName\":\"disneyland17\",\"isVisible\":true,\"divid1\":\"divfigmapMain38\",\"divid2\":\"divfigmapTMain38\",\"_dashArray\":null,\"figServerId\":\"15250715-a0a0-4048-bd0c-2a1c1c22146d\",\"divMasteri\":\"divfigmapLstMain38\"},\"type\":\"Feature\",\"geometry\":{\"type\":\"Polygon\",\"coordinates\":[[[139.875944,35.636452],[139.87453,35.633894],[139.876423,35.633068],[139.877896,35.635723],[139.875944,35.636452]]]}}]}', 'options': '{\"stroke\":true,\"color\":\"#3388ff\",\"weight\":4,\"opacity\":0.5,\"fill\":true,\"fillColor\":\"#3388ff\",\"fillOpacity\":0.2,\"clickable\":true,\"_dashArray\":null,\"dashArray\":null}'}, {'id': '9f3b5eac-412f-450c-8116-ad3cb2673eb1', 'createdAt': 1596877590, 'updatedAt': 1596877652, 'name': 'marker-17', 'transparency': 1, 'windowNumber': 1, 'isVisible': False, 'data': '{\"type\":\"FeatureCollection\",\"features\":[{\"properties\":{\"note\":\"\",\"drawtype\":\"marker\",\"drawname\":\"marker\",\"rate\":1,\"figName\":\"marker-17\",\"isVisible\":true,\"divid1\":\"divfigmapMain36\",\"divid2\":\"divfigmapTMain36\",\"divMasteri\":\"divfigMarkermapLstMain36\"},\"type\":\"Feature\",\"geometry\":{\"type\":\"Point\",\"coordinates\":[139.868796,35.62866]}}]}', 'options': '{\"icon\":{\"options\":{},\"_initHooksCalled\":true},\"rotationOrigin\":\"12px 41px\",\"rotationAngle\":0}'}]}\n"
     ]
    }
   ],
   "source": [
    "#   (左下経度, 左下緯度, 右上経度, 右上緯度)\n",
    "bbox=(139.871369, 35.621890, 139.895782, 35.641084 )\n",
    "\n",
    "shapename = \"disneyland17\" #自分で作った図形の名前に変更する※OS上に登録された10個以内のものまでしかページネーションの都合で呼べないので注意\n",
    "shape = get_shape_geojson_by_name(shapename)\n",
    "points = shape[\"features\"][0][\"geometry\"][\"coordinates\"][0]"
   ]
  },
  {
   "cell_type": "markdown",
   "metadata": {},
   "source": [
    "### ピクセル数のカウント"
   ]
  },
  {
   "cell_type": "code",
   "execution_count": 19,
   "metadata": {},
   "outputs": [],
   "source": [
    "# 閾値の設定\n",
    "px_low = 1 \n",
    "px_up  = 60\n",
    "n = np.random.randint(1, 60, (256, 256))"
   ]
  },
  {
   "cell_type": "code",
   "execution_count": 20,
   "metadata": {},
   "outputs": [
    {
     "name": "stdout",
     "output_type": "stream",
     "text": [
      "770\n",
      "./parking/out_resize_20191201Masked_00810f1f-f749-4598-b3d8-3dcfed6909f9.jpg\n",
      "439\n",
      "./parking/out_resize_20191101Masked_e85fab24-34ab-4743-95d8-22f7a44f7495.jpg\n",
      "627\n",
      "./parking/out_resize_20190901Masked_b2ad6fbe-da95-4650-82df-15624c9c670b.jpg\n",
      "488\n",
      "./parking/out_resize_20191001Masked_b0ddba0e-d835-46cf-b988-19ef6f7d7a75.jpg\n"
     ]
    },
    {
     "data": {
      "image/png": "[encoded data removed]",
      "text/plain": [
       "<Figure size 432x288 with 1 Axes>"
      ]
     },
     "metadata": {
      "needs_background": "light"
     },
     "output_type": "display_data"
    }
   ],
   "source": [
    "# jpgのみを取得\n",
    "imagedata = []\n",
    "for i in glob.glob(\"./resize_image_sisaku/*.jpg\"):\n",
    "    jpg22 = cv2.imread( i, cv2.IMREAD_GRAYSCALE)\n",
    "      \n",
    "    pxsize2 = {\"width\": jpg22.shape[1], \"height\": jpg22.shape[0]}\n",
    "\n",
    "    mask = get_polygon_image(points, bbox, pxsize2)\n",
    "    gray_img_masked = jpg22 * (1-mask)\n",
    "    \n",
    "    io.imshow(gray_img_masked)\n",
    "    \n",
    "    binary = cv2.inRange(gray_img_masked, px_low, px_up)\n",
    "    cnt = cv2.countNonZero(binary)\n",
    "    print(cnt)\n",
    "    \n",
    "    \n",
    "#     new file\n",
    "    pathpark = './parking/'\n",
    "    os.makedirs(pathpark, exist_ok=True)\n",
    "\n",
    "    imgdir = os.path.dirname(pathpark)\n",
    "    imgname = os.path.basename(i)\n",
    "    newfname = imgdir + \"/out_\" + imgname\n",
    "    print(newfname)\n",
    "    pil_img = Image.fromarray(gray_img_masked)\n",
    "    pil_img.save(newfname)\n",
    "    \n"
   ]
  },
  {
   "cell_type": "code",
   "execution_count": 21,
   "metadata": {},
   "outputs": [
    {
     "name": "stdout",
     "output_type": "stream",
     "text": [
      "./hantai/gyaku_resize_20191201Masked_00810f1f-f749-4598-b3d8-3dcfed6909f9.jpg\n",
      "./hantai/gyaku_resize_20191101Masked_e85fab24-34ab-4743-95d8-22f7a44f7495.jpg\n",
      "./hantai/gyaku_resize_20190901Masked_b2ad6fbe-da95-4650-82df-15624c9c670b.jpg\n",
      "./hantai/gyaku_resize_20191001Masked_b0ddba0e-d835-46cf-b988-19ef6f7d7a75.jpg\n"
     ]
    },
    {
     "data": {
      "image/png": "[encoded data removed]",
      "text/plain": [
       "<Figure size 432x288 with 1 Axes>"
      ]
     },
     "metadata": {
      "needs_background": "light"
     },
     "output_type": "display_data"
    }
   ],
   "source": [
    "path = './hantai/'\n",
    "os.makedirs(path, exist_ok=True)\n",
    "\n",
    "imagedata = []\n",
    "for t in glob.glob(\"./resize_image_sisaku/*.jpg\"):\n",
    "    jpg22 = cv2.imread( t, cv2.IMREAD_GRAYSCALE)\n",
    "    gray_img_masked2_1 = jpg22 * (mask)\n",
    "\n",
    "    io.imshow(gray_img_masked2_1)\n",
    "    \n",
    "    imgdir4 = os.path.dirname(path)\n",
    "    imgname4 = os.path.basename(t)\n",
    "    newfname4 = imgdir4 + \"/gyaku_\" + imgname4\n",
    "    print(newfname4)\n",
    "    pil_img4 = Image.fromarray(gray_img_masked)\n",
    "    pil_img4.save(newfname4 )"
   ]
  },
  {
   "cell_type": "code",
   "execution_count": null,
   "metadata": {},
   "outputs": [],
   "source": [
    "# 黒のピクセル数の折れ線グラフ\n",
    "df6 = pd.DataFrame({\"2019\": ['7/8',  '7/20',   '8/1',  '8/13',  '8/25',  '9/6',  '9/18',  '10/24', '11/5', '11/17', '12/11', '12/23'],\n",
    "                  \"blackpixel\" : [460,  418,   568,  237,  513,  579,  518,  325,  301,  279,  290,  609],\n",
    "                   })\n",
    "\n",
    "df6.plot(x=\"2019\", y=\"blackpixel\")\n",
    "\n",
    "height = [plt.ylim([0,700])]"
   ]
  },
  {
   "cell_type": "code",
   "execution_count": null,
   "metadata": {},
   "outputs": [],
   "source": [
    "# 白のピクセル数の折れ線グラフ\n",
    "df6 = pd.DataFrame({\"2019\": ['7/8',  '7/20',   '8/1',  '8/13',  '8/25',  '9/6',  '9/18',  '10/24', '11/5', '11/17', '12/11', '12/23'],\n",
    "                  \"whitepixel\" : [208,  246,   100,  431,  157,  85,   152,  347,  367,  390,  377,  56],\n",
    "                   })\n",
    "\n",
    "df6.plot(x=\"2019\", y=\"whitepixel\")\n",
    "\n",
    "height = [plt.ylim([0,700])]\n"
   ]
  },
  {
   "cell_type": "code",
   "execution_count": null,
   "metadata": {},
   "outputs": [],
   "source": [
    "# 黒のピクセル数の棒グラフを書く\n",
    "\n",
    "# 平日のピクセル\n",
    "x1 = [7,   8,   9,   9.15, 10.15, 11, 12, 12.15]\n",
    "y1 = [460, 301, 579, 518,  325,301,290,609]\n",
    "\n",
    "# 休日のピクセル\n",
    "x2 = [7.15, 8.15, 8.3, 11.15 ]\n",
    "y2 = [418,  237,  513, 279 ]\n",
    "\n",
    "labels=[\"July\",\"Aug.\",\"Sep.\",\"Oct.\",\"Nov.\",\"Dec.\"]\n",
    "plt.title('disneyparkings-space')\n",
    "\n",
    "# 平日の棒グラフ\n",
    "plt.bar(x1, y1, color='b', width=0.15, label='WeekDay', align=\"center\")\n",
    "\n",
    "# 休日の棒グラフ\n",
    "plt.bar(x2, y2, color='#ff7f00', width=0.15, label='WeekEnd', align=\"center\")\n",
    "\n",
    "# 凡例\n",
    "plt.legend(loc=2)\n",
    "\n",
    "# X軸の目盛りを置換 y軸の調整\n",
    "plt.xticks([7.15, 8.15, 9.15, 10.15, 11.15, 12.15], labels)\n",
    "height = [plt.ylim([0,800])]\n",
    "plt.savefig(\"blackpx.png\")\n",
    "plt.show()"
   ]
  },
  {
   "cell_type": "code",
   "execution_count": null,
   "metadata": {},
   "outputs": [],
   "source": [
    "# 白のピクセル数の棒グラフ書く\n",
    "\n",
    "# 平日のピクセル\n",
    "x3 = [7,   8,   9,   9.15, 10.15, 11,  12,  12.15]\n",
    "y3 = [208, 100, 157, 152,  347,   367, 377, 56]\n",
    "\n",
    "# 休日のピクセル\n",
    "x4 = [7.15, 8.15, 8.3, 11.15 ]\n",
    "y4 = [246,  431,  157, 390 ]\n",
    "\n",
    "\n",
    "labels=[\"July\",\"Aug.\",\"Sep.\",\"Oct.\",\"Nov.\",\"Dec.\"]\n",
    "plt.title('disneyparking-full')\n",
    "\n",
    "# 平日の棒グラフ\n",
    "plt.bar(x3, y3, color='b', width=0.15, label='WeekDay', align=\"center\")\n",
    "\n",
    "# 休日の棒グラフ\n",
    "plt.bar(x4, y4, color='#ff7f00', width=0.15, label='WeekEnd', align=\"center\")\n",
    "\n",
    "# 凡例\n",
    "plt.legend(loc=2)\n",
    "\n",
    "# X軸の目盛りを置換 y軸の調整\n",
    "plt.xticks([7.15, 8.15, 9.15, 10.15, 11.15, 12.15], labels)\n",
    "height = [plt.ylim([0,800])]\n",
    "plt.savefig(\"whitepx.png\")\n",
    "plt.show()"
   ]
  },
  {
   "cell_type": "code",
   "execution_count": null,
   "metadata": {},
   "outputs": [],
   "source": []
  }
 ],
 "metadata": {
  "kernelspec": {
   "display_name": "Python 3",
   "language": "python",
   "name": "python3"
  },
  "language_info": {
   "codemirror_mode": {
    "name": "ipython",
    "version": 3
   },
   "file_extension": ".py",
   "mimetype": "text/x-python",
   "name": "python",
   "nbconvert_exporter": "python",
   "pygments_lexer": "ipython3",
   "version": "3.7.3"
  }
 },
 "nbformat": 4,
 "nbformat_minor": 4
}
